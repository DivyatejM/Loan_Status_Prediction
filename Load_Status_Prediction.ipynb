{
  "nbformat": 4,
  "nbformat_minor": 0,
  "metadata": {
    "colab": {
      "name": "Load Status Prediction.ipynb",
      "provenance": []
    },
    "kernelspec": {
      "name": "python3",
      "display_name": "Python 3"
    },
    "language_info": {
      "name": "python"
    }
  },
  "cells": [
    {
      "cell_type": "markdown",
      "metadata": {
        "id": "zJHYomeVSI2w"
      },
      "source": [
        "##**Load Status Prediction**"
      ]
    },
    {
      "cell_type": "markdown",
      "metadata": {
        "id": "yESZfBRaSd07"
      },
      "source": [
        "Installing all the libraries, Dependencies for Numerical Operations, Dataframe Operations, Data Visualization and **Machine Learning Algorithm**"
      ]
    },
    {
      "cell_type": "code",
      "metadata": {
        "id": "Nj3YZtiTt7HK"
      },
      "source": [
        "#  Importing Libraries & Dependencies \n",
        "import warnings\n",
        "import sklearn\n",
        "import imblearn\n",
        "import numpy as np\n",
        "import pandas as pd\n",
        "import seaborn as sns\n",
        "import matplotlib.pyplot as plt\n",
        "from imblearn.over_sampling import SMOTE\n",
        "from sklearn.linear_model import LogisticRegression\n",
        "from sklearn.model_selection import cross_val_score\n",
        "from sklearn.model_selection import train_test_split\n",
        "from sklearn.ensemble import GradientBoostingClassifier as gbc\n",
        "from sklearn.metrics import confusion_matrix, classification_report"
      ],
      "execution_count": 2,
      "outputs": []
    },
    {
      "cell_type": "markdown",
      "metadata": {
        "id": "GrenDpnDSzUp"
      },
      "source": [
        "Setting the Background theme as fivethirtyeight"
      ]
    },
    {
      "cell_type": "code",
      "metadata": {
        "id": "d_mPo180uzPi"
      },
      "source": [
        "plt.style.use('fivethirtyeight')"
      ],
      "execution_count": 3,
      "outputs": []
    },
    {
      "cell_type": "markdown",
      "metadata": {
        "id": "2_L4uRTEvy2G"
      },
      "source": [
        "##**Reading Data from the Dataset**"
      ]
    },
    {
      "cell_type": "markdown",
      "metadata": {
        "id": "-M_Mgsj4TKK0"
      },
      "source": [
        "Importing the dataset from the csv file using pandas *read_csv* function"
      ]
    },
    {
      "cell_type": "code",
      "metadata": {
        "id": "7wh5jmt3vFnx",
        "colab": {
          "base_uri": "https://localhost:8080/"
        },
        "outputId": "06c197a6-bccd-48f7-d8e9-7a9d386577af"
      },
      "source": [
        "data=pd.read_csv('LoanData.csv')\n",
        "data.shape"
      ],
      "execution_count": 4,
      "outputs": [
        {
          "output_type": "execute_result",
          "data": {
            "text/plain": [
              "(614, 13)"
            ]
          },
          "metadata": {
            "tags": []
          },
          "execution_count": 4
        }
      ]
    },
    {
      "cell_type": "markdown",
      "metadata": {
        "id": "8Zre2MUvTr3W"
      },
      "source": [
        "Columns in the dataset"
      ]
    },
    {
      "cell_type": "code",
      "metadata": {
        "colab": {
          "base_uri": "https://localhost:8080/"
        },
        "id": "w3Ihx9ZvwA-F",
        "outputId": "61057f5d-74e4-4a50-ca7e-4039afd41d93"
      },
      "source": [
        "data.columns"
      ],
      "execution_count": 5,
      "outputs": [
        {
          "output_type": "execute_result",
          "data": {
            "text/plain": [
              "Index(['Loan_ID', 'Gender', 'Married', 'Dependents', 'Education',\n",
              "       'Self_Employed', 'ApplicantIncome', 'CoapplicantIncome', 'LoanAmount',\n",
              "       'Loan_Amount_Term', 'Credit_History', 'Property_Area', 'Loan_Status'],\n",
              "      dtype='object')"
            ]
          },
          "metadata": {
            "tags": []
          },
          "execution_count": 5
        }
      ]
    },
    {
      "cell_type": "markdown",
      "metadata": {
        "id": "UgSnT-TXT1Ix"
      },
      "source": [
        "Getting first 5 Values"
      ]
    },
    {
      "cell_type": "code",
      "metadata": {
        "colab": {
          "base_uri": "https://localhost:8080/",
          "height": 239
        },
        "id": "s3lo3FSuxJRi",
        "outputId": "32890ecf-3193-425a-ea71-4e3666e9e9df"
      },
      "source": [
        "data.head()"
      ],
      "execution_count": 6,
      "outputs": [
        {
          "output_type": "execute_result",
          "data": {
            "text/html": [
              "<div>\n",
              "<style scoped>\n",
              "    .dataframe tbody tr th:only-of-type {\n",
              "        vertical-align: middle;\n",
              "    }\n",
              "\n",
              "    .dataframe tbody tr th {\n",
              "        vertical-align: top;\n",
              "    }\n",
              "\n",
              "    .dataframe thead th {\n",
              "        text-align: right;\n",
              "    }\n",
              "</style>\n",
              "<table border=\"1\" class=\"dataframe\">\n",
              "  <thead>\n",
              "    <tr style=\"text-align: right;\">\n",
              "      <th></th>\n",
              "      <th>Loan_ID</th>\n",
              "      <th>Gender</th>\n",
              "      <th>Married</th>\n",
              "      <th>Dependents</th>\n",
              "      <th>Education</th>\n",
              "      <th>Self_Employed</th>\n",
              "      <th>ApplicantIncome</th>\n",
              "      <th>CoapplicantIncome</th>\n",
              "      <th>LoanAmount</th>\n",
              "      <th>Loan_Amount_Term</th>\n",
              "      <th>Credit_History</th>\n",
              "      <th>Property_Area</th>\n",
              "      <th>Loan_Status</th>\n",
              "    </tr>\n",
              "  </thead>\n",
              "  <tbody>\n",
              "    <tr>\n",
              "      <th>0</th>\n",
              "      <td>LP001002</td>\n",
              "      <td>Male</td>\n",
              "      <td>No</td>\n",
              "      <td>0</td>\n",
              "      <td>Graduate</td>\n",
              "      <td>No</td>\n",
              "      <td>5849</td>\n",
              "      <td>0.0</td>\n",
              "      <td>NaN</td>\n",
              "      <td>360.0</td>\n",
              "      <td>1.0</td>\n",
              "      <td>Urban</td>\n",
              "      <td>Y</td>\n",
              "    </tr>\n",
              "    <tr>\n",
              "      <th>1</th>\n",
              "      <td>LP001003</td>\n",
              "      <td>Male</td>\n",
              "      <td>Yes</td>\n",
              "      <td>1</td>\n",
              "      <td>Graduate</td>\n",
              "      <td>No</td>\n",
              "      <td>4583</td>\n",
              "      <td>1508.0</td>\n",
              "      <td>128.0</td>\n",
              "      <td>360.0</td>\n",
              "      <td>1.0</td>\n",
              "      <td>Rural</td>\n",
              "      <td>N</td>\n",
              "    </tr>\n",
              "    <tr>\n",
              "      <th>2</th>\n",
              "      <td>LP001005</td>\n",
              "      <td>Male</td>\n",
              "      <td>Yes</td>\n",
              "      <td>0</td>\n",
              "      <td>Graduate</td>\n",
              "      <td>Yes</td>\n",
              "      <td>3000</td>\n",
              "      <td>0.0</td>\n",
              "      <td>66.0</td>\n",
              "      <td>360.0</td>\n",
              "      <td>1.0</td>\n",
              "      <td>Urban</td>\n",
              "      <td>Y</td>\n",
              "    </tr>\n",
              "    <tr>\n",
              "      <th>3</th>\n",
              "      <td>LP001006</td>\n",
              "      <td>Male</td>\n",
              "      <td>Yes</td>\n",
              "      <td>0</td>\n",
              "      <td>Not Graduate</td>\n",
              "      <td>No</td>\n",
              "      <td>2583</td>\n",
              "      <td>2358.0</td>\n",
              "      <td>120.0</td>\n",
              "      <td>360.0</td>\n",
              "      <td>1.0</td>\n",
              "      <td>Urban</td>\n",
              "      <td>Y</td>\n",
              "    </tr>\n",
              "    <tr>\n",
              "      <th>4</th>\n",
              "      <td>LP001008</td>\n",
              "      <td>Male</td>\n",
              "      <td>No</td>\n",
              "      <td>0</td>\n",
              "      <td>Graduate</td>\n",
              "      <td>No</td>\n",
              "      <td>6000</td>\n",
              "      <td>0.0</td>\n",
              "      <td>141.0</td>\n",
              "      <td>360.0</td>\n",
              "      <td>1.0</td>\n",
              "      <td>Urban</td>\n",
              "      <td>Y</td>\n",
              "    </tr>\n",
              "  </tbody>\n",
              "</table>\n",
              "</div>"
            ],
            "text/plain": [
              "    Loan_ID Gender Married  ... Credit_History Property_Area Loan_Status\n",
              "0  LP001002   Male      No  ...            1.0         Urban           Y\n",
              "1  LP001003   Male     Yes  ...            1.0         Rural           N\n",
              "2  LP001005   Male     Yes  ...            1.0         Urban           Y\n",
              "3  LP001006   Male     Yes  ...            1.0         Urban           Y\n",
              "4  LP001008   Male      No  ...            1.0         Urban           Y\n",
              "\n",
              "[5 rows x 13 columns]"
            ]
          },
          "metadata": {
            "tags": []
          },
          "execution_count": 6
        }
      ]
    },
    {
      "cell_type": "code",
      "metadata": {
        "id": "gzWjmJSeDhGB"
      },
      "source": [
        ""
      ],
      "execution_count": null,
      "outputs": []
    },
    {
      "cell_type": "markdown",
      "metadata": {
        "id": "ISOSZXaHT6WN"
      },
      "source": [
        "##**Descriptive Statistics**"
      ]
    },
    {
      "cell_type": "code",
      "metadata": {
        "colab": {
          "base_uri": "https://localhost:8080/",
          "height": 294
        },
        "id": "FkYCMPQdxMZn",
        "outputId": "bc5ce027-ba92-41aa-f756-452f10130c3e"
      },
      "source": [
        "data.describe()"
      ],
      "execution_count": 7,
      "outputs": [
        {
          "output_type": "execute_result",
          "data": {
            "text/html": [
              "<div>\n",
              "<style scoped>\n",
              "    .dataframe tbody tr th:only-of-type {\n",
              "        vertical-align: middle;\n",
              "    }\n",
              "\n",
              "    .dataframe tbody tr th {\n",
              "        vertical-align: top;\n",
              "    }\n",
              "\n",
              "    .dataframe thead th {\n",
              "        text-align: right;\n",
              "    }\n",
              "</style>\n",
              "<table border=\"1\" class=\"dataframe\">\n",
              "  <thead>\n",
              "    <tr style=\"text-align: right;\">\n",
              "      <th></th>\n",
              "      <th>ApplicantIncome</th>\n",
              "      <th>CoapplicantIncome</th>\n",
              "      <th>LoanAmount</th>\n",
              "      <th>Loan_Amount_Term</th>\n",
              "      <th>Credit_History</th>\n",
              "    </tr>\n",
              "  </thead>\n",
              "  <tbody>\n",
              "    <tr>\n",
              "      <th>count</th>\n",
              "      <td>614.000000</td>\n",
              "      <td>614.000000</td>\n",
              "      <td>592.000000</td>\n",
              "      <td>600.00000</td>\n",
              "      <td>564.000000</td>\n",
              "    </tr>\n",
              "    <tr>\n",
              "      <th>mean</th>\n",
              "      <td>5403.459283</td>\n",
              "      <td>1621.245798</td>\n",
              "      <td>146.412162</td>\n",
              "      <td>342.00000</td>\n",
              "      <td>0.842199</td>\n",
              "    </tr>\n",
              "    <tr>\n",
              "      <th>std</th>\n",
              "      <td>6109.041673</td>\n",
              "      <td>2926.248369</td>\n",
              "      <td>85.587325</td>\n",
              "      <td>65.12041</td>\n",
              "      <td>0.364878</td>\n",
              "    </tr>\n",
              "    <tr>\n",
              "      <th>min</th>\n",
              "      <td>150.000000</td>\n",
              "      <td>0.000000</td>\n",
              "      <td>9.000000</td>\n",
              "      <td>12.00000</td>\n",
              "      <td>0.000000</td>\n",
              "    </tr>\n",
              "    <tr>\n",
              "      <th>25%</th>\n",
              "      <td>2877.500000</td>\n",
              "      <td>0.000000</td>\n",
              "      <td>100.000000</td>\n",
              "      <td>360.00000</td>\n",
              "      <td>1.000000</td>\n",
              "    </tr>\n",
              "    <tr>\n",
              "      <th>50%</th>\n",
              "      <td>3812.500000</td>\n",
              "      <td>1188.500000</td>\n",
              "      <td>128.000000</td>\n",
              "      <td>360.00000</td>\n",
              "      <td>1.000000</td>\n",
              "    </tr>\n",
              "    <tr>\n",
              "      <th>75%</th>\n",
              "      <td>5795.000000</td>\n",
              "      <td>2297.250000</td>\n",
              "      <td>168.000000</td>\n",
              "      <td>360.00000</td>\n",
              "      <td>1.000000</td>\n",
              "    </tr>\n",
              "    <tr>\n",
              "      <th>max</th>\n",
              "      <td>81000.000000</td>\n",
              "      <td>41667.000000</td>\n",
              "      <td>700.000000</td>\n",
              "      <td>480.00000</td>\n",
              "      <td>1.000000</td>\n",
              "    </tr>\n",
              "  </tbody>\n",
              "</table>\n",
              "</div>"
            ],
            "text/plain": [
              "       ApplicantIncome  CoapplicantIncome  ...  Loan_Amount_Term  Credit_History\n",
              "count       614.000000         614.000000  ...         600.00000      564.000000\n",
              "mean       5403.459283        1621.245798  ...         342.00000        0.842199\n",
              "std        6109.041673        2926.248369  ...          65.12041        0.364878\n",
              "min         150.000000           0.000000  ...          12.00000        0.000000\n",
              "25%        2877.500000           0.000000  ...         360.00000        1.000000\n",
              "50%        3812.500000        1188.500000  ...         360.00000        1.000000\n",
              "75%        5795.000000        2297.250000  ...         360.00000        1.000000\n",
              "max       81000.000000       41667.000000  ...         480.00000        1.000000\n",
              "\n",
              "[8 rows x 5 columns]"
            ]
          },
          "metadata": {
            "tags": []
          },
          "execution_count": 7
        }
      ]
    },
    {
      "cell_type": "markdown",
      "metadata": {
        "id": "lUZMJrL3UQJ_"
      },
      "source": [
        "For catagorical Variables present in the dataset"
      ]
    },
    {
      "cell_type": "code",
      "metadata": {
        "colab": {
          "base_uri": "https://localhost:8080/",
          "height": 171
        },
        "id": "9j-IE7vdyWHB",
        "outputId": "efbc4b28-5fc2-411e-a2e3-2c8ab960da35"
      },
      "source": [
        "data.describe(include='object')"
      ],
      "execution_count": 8,
      "outputs": [
        {
          "output_type": "execute_result",
          "data": {
            "text/html": [
              "<div>\n",
              "<style scoped>\n",
              "    .dataframe tbody tr th:only-of-type {\n",
              "        vertical-align: middle;\n",
              "    }\n",
              "\n",
              "    .dataframe tbody tr th {\n",
              "        vertical-align: top;\n",
              "    }\n",
              "\n",
              "    .dataframe thead th {\n",
              "        text-align: right;\n",
              "    }\n",
              "</style>\n",
              "<table border=\"1\" class=\"dataframe\">\n",
              "  <thead>\n",
              "    <tr style=\"text-align: right;\">\n",
              "      <th></th>\n",
              "      <th>Loan_ID</th>\n",
              "      <th>Gender</th>\n",
              "      <th>Married</th>\n",
              "      <th>Dependents</th>\n",
              "      <th>Education</th>\n",
              "      <th>Self_Employed</th>\n",
              "      <th>Property_Area</th>\n",
              "      <th>Loan_Status</th>\n",
              "    </tr>\n",
              "  </thead>\n",
              "  <tbody>\n",
              "    <tr>\n",
              "      <th>count</th>\n",
              "      <td>614</td>\n",
              "      <td>601</td>\n",
              "      <td>611</td>\n",
              "      <td>599</td>\n",
              "      <td>614</td>\n",
              "      <td>582</td>\n",
              "      <td>614</td>\n",
              "      <td>614</td>\n",
              "    </tr>\n",
              "    <tr>\n",
              "      <th>unique</th>\n",
              "      <td>614</td>\n",
              "      <td>2</td>\n",
              "      <td>2</td>\n",
              "      <td>4</td>\n",
              "      <td>2</td>\n",
              "      <td>2</td>\n",
              "      <td>3</td>\n",
              "      <td>2</td>\n",
              "    </tr>\n",
              "    <tr>\n",
              "      <th>top</th>\n",
              "      <td>LP002036</td>\n",
              "      <td>Male</td>\n",
              "      <td>Yes</td>\n",
              "      <td>0</td>\n",
              "      <td>Graduate</td>\n",
              "      <td>No</td>\n",
              "      <td>Semiurban</td>\n",
              "      <td>Y</td>\n",
              "    </tr>\n",
              "    <tr>\n",
              "      <th>freq</th>\n",
              "      <td>1</td>\n",
              "      <td>489</td>\n",
              "      <td>398</td>\n",
              "      <td>345</td>\n",
              "      <td>480</td>\n",
              "      <td>500</td>\n",
              "      <td>233</td>\n",
              "      <td>422</td>\n",
              "    </tr>\n",
              "  </tbody>\n",
              "</table>\n",
              "</div>"
            ],
            "text/plain": [
              "         Loan_ID Gender Married  ... Self_Employed Property_Area Loan_Status\n",
              "count        614    601     611  ...           582           614         614\n",
              "unique       614      2       2  ...             2             3           2\n",
              "top     LP002036   Male     Yes  ...            No     Semiurban           Y\n",
              "freq           1    489     398  ...           500           233         422\n",
              "\n",
              "[4 rows x 8 columns]"
            ]
          },
          "metadata": {
            "tags": []
          },
          "execution_count": 8
        }
      ]
    },
    {
      "cell_type": "markdown",
      "metadata": {
        "id": "6krfCUMFUb-9"
      },
      "source": [
        "#**Data Cleaning**"
      ]
    },
    {
      "cell_type": "markdown",
      "metadata": {
        "id": "uzLa3ilNUhrq"
      },
      "source": [
        "Getting missing values of each column from the dataset"
      ]
    },
    {
      "cell_type": "code",
      "metadata": {
        "colab": {
          "base_uri": "https://localhost:8080/"
        },
        "id": "QVZsKE3uyywH",
        "outputId": "6bd02192-5208-4933-977e-d094c001f7f3"
      },
      "source": [
        " data.isnull().sum()"
      ],
      "execution_count": 9,
      "outputs": [
        {
          "output_type": "execute_result",
          "data": {
            "text/plain": [
              "Loan_ID               0\n",
              "Gender               13\n",
              "Married               3\n",
              "Dependents           15\n",
              "Education             0\n",
              "Self_Employed        32\n",
              "ApplicantIncome       0\n",
              "CoapplicantIncome     0\n",
              "LoanAmount           22\n",
              "Loan_Amount_Term     14\n",
              "Credit_History       50\n",
              "Property_Area         0\n",
              "Loan_Status           0\n",
              "dtype: int64"
            ]
          },
          "metadata": {
            "tags": []
          },
          "execution_count": 9
        }
      ]
    },
    {
      "cell_type": "markdown",
      "metadata": {
        "id": "k8LH0x1Ma5AP"
      },
      "source": [
        "Using Statistical Measures\n",
        "<br>\n",
        "Mode to impute Catagorical columns<br>\n",
        "              &<br>\n",
        "Median to impute the Numerical columns\n"
      ]
    },
    {
      "cell_type": "code",
      "metadata": {
        "id": "mP6qgJM_cOQ-"
      },
      "source": [
        "data['Gender'] = data['Gender'].fillna(data['Gender'].mode()[0])\n",
        "data['Married'] = data['Married'].fillna(data['Married'].mode()[0])\n",
        "data['Dependents'] = data['Dependents'].fillna(data['Dependents'].mode()[0])\n",
        "data['Self_Employed'] = data['Self_Employed'].fillna(data['Self_Employed'].mode()[0])\n",
        "\n",
        "data['LoanAmount'] = data['LoanAmount'].fillna(data['LoanAmount'].median())\n",
        "data['Loan_Amount_Term'] = data['Loan_Amount_Term'].fillna(data['Loan_Amount_Term'].median())\n",
        "data['Credit_History'] = data['Credit_History'].fillna(data['Credit_History'].median())\n"
      ],
      "execution_count": 10,
      "outputs": []
    },
    {
      "cell_type": "code",
      "metadata": {
        "colab": {
          "base_uri": "https://localhost:8080/"
        },
        "id": "0EO5i0FgAjEO",
        "outputId": "0b2c8d3f-947e-48ce-f4b0-2cc218249a4b"
      },
      "source": [
        "data.isnull().sum().sum()"
      ],
      "execution_count": 11,
      "outputs": [
        {
          "output_type": "execute_result",
          "data": {
            "text/plain": [
              "0"
            ]
          },
          "metadata": {
            "tags": []
          },
          "execution_count": 11
        }
      ]
    },
    {
      "cell_type": "markdown",
      "metadata": {
        "id": "Zcvfxk-xchI8"
      },
      "source": [
        "##Data Visualization using Box Plot"
      ]
    },
    {
      "cell_type": "markdown",
      "metadata": {
        "id": "xwtyFbhPcsmG"
      },
      "source": [
        "Outliers in the Dataset"
      ]
    },
    {
      "cell_type": "code",
      "metadata": {
        "colab": {
          "base_uri": "https://localhost:8080/",
          "height": 300
        },
        "id": "RqI2GcbJA9PJ",
        "outputId": "dc03ba7b-81b4-4aed-e857-9059355df66b"
      },
      "source": [
        "# Outliers\n",
        "plt.style.use('fivethirtyeight')\n",
        "plt.rcParams['figure.figsize']=(15,4)\n",
        "\n",
        "plt.subplot(1,3,1)\n",
        "sns.boxplot(data['ApplicantIncome'])\n",
        "\n",
        "plt.subplot(1,3,3)\n",
        "sns.boxplot(data['CoapplicantIncome'])\n",
        "\n",
        "plt.subplot(1,3,3)\n",
        "sns.boxplot(data['LoanAmount'])\n",
        "\n",
        "plt.suptitle('Outliers')\n",
        "plt.show()"
      ],
      "execution_count": 12,
      "outputs": [
        {
          "output_type": "display_data",
          "data": {
            "image/png": "[encoded data removed]",
            "text/plain": [
              "<Figure size 1080x288 with 2 Axes>"
            ]
          },
          "metadata": {
            "tags": []
          }
        }
      ]
    },
    {
      "cell_type": "markdown",
      "metadata": {
        "id": "af3gMy9fdAiF"
      },
      "source": [
        "Filtering the Applicants having more than 25000 income"
      ]
    },
    {
      "cell_type": "code",
      "metadata": {
        "colab": {
          "base_uri": "https://localhost:8080/"
        },
        "id": "5JeNlZdiBkX7",
        "outputId": "c68e9eb6-562a-4ab5-8636-b4b3165db82e"
      },
      "source": [
        "print(\"Before removing Outliers\", data.shape)\n",
        "\n",
        "data=data[data['ApplicantIncome'] < 25000]\n",
        "\n",
        "print(\"After removing Outliers\", data.shape)\n"
      ],
      "execution_count": 13,
      "outputs": [
        {
          "output_type": "stream",
          "text": [
            "Before removing Outliers (614, 13)\n",
            "After removing Outliers (607, 13)\n"
          ],
          "name": "stdout"
        }
      ]
    },
    {
      "cell_type": "markdown",
      "metadata": {
        "id": "-Q7-PajjdNE6"
      },
      "source": [
        "Removing Outliers from Coappicant's Income"
      ]
    },
    {
      "cell_type": "code",
      "metadata": {
        "colab": {
          "base_uri": "https://localhost:8080/"
        },
        "id": "I10-zfH_DGQa",
        "outputId": "f3ffa146-ccb5-4d8d-e46b-9fe6903c47b5"
      },
      "source": [
        "print(\"Before removing Outliers\", data.shape)\n",
        "\n",
        "data=data[data['LoanAmount'] < 400]\n",
        "\n",
        "print(\"After removing Outliers\", data.shape)"
      ],
      "execution_count": 14,
      "outputs": [
        {
          "output_type": "stream",
          "text": [
            "Before removing Outliers (607, 13)\n",
            "After removing Outliers (595, 13)\n"
          ],
          "name": "stdout"
        }
      ]
    },
    {
      "cell_type": "markdown",
      "metadata": {
        "id": "Tv-bSq-Fdn9O"
      },
      "source": [
        "Removing Outliers from Loan Amount"
      ]
    },
    {
      "cell_type": "markdown",
      "metadata": {
        "id": "8TzmcRnldv5j"
      },
      "source": [
        "Filtering based on loan amount less than 400"
      ]
    },
    {
      "cell_type": "code",
      "metadata": {
        "colab": {
          "base_uri": "https://localhost:8080/"
        },
        "id": "TNPEdsJbdrnJ",
        "outputId": "9e5b789c-f78e-4ed0-8b7e-818b414f523e"
      },
      "source": [
        "print(\"Before Removing Outliers \", data.shape)\n",
        "\n",
        "data = data[data['LoanAmount'] < 400]\n",
        "\n",
        "print(\"After Removing Outliers \", data.shape)"
      ],
      "execution_count": 15,
      "outputs": [
        {
          "output_type": "stream",
          "text": [
            "Before Removing Outliers  (595, 13)\n",
            "After Removing Outliers  (595, 13)\n"
          ],
          "name": "stdout"
        }
      ]
    },
    {
      "cell_type": "markdown",
      "metadata": {
        "id": "McBiNohgDs8Z"
      },
      "source": [
        "**Univariant Data Analysis**"
      ]
    },
    {
      "cell_type": "code",
      "metadata": {
        "colab": {
          "base_uri": "https://localhost:8080/",
          "height": 237
        },
        "id": "-Fn7ix9rDyP_",
        "outputId": "82a0e75f-30af-4344-e2a2-9d2bafdc7b62"
      },
      "source": [
        "plt.rcParams['figure.figsize']=(18,4)\n",
        "plt.subplot(1,3,1)\n",
        "sns.distplot(data['ApplicantIncome'],color='green')\n",
        "\n",
        "plt.subplot(1,3,2)\n",
        "sns.distplot(data['CoapplicantIncome'], color='green')\n",
        "\n",
        "plt.subplot(1,3,3)\n",
        "sns.distplot(data['LoanAmount'], color='green')\n",
        "\n",
        "plt.suptitle('Univariant Analysis')\n",
        "plt.show()"
      ],
      "execution_count": 16,
      "outputs": [
        {
          "output_type": "display_data",
          "data": {
            "image/png": "[encoded data removed]",
            "text/plain": [
              "<Figure size 1296x288 with 3 Axes>"
            ]
          },
          "metadata": {
            "tags": []
          }
        }
      ]
    },
    {
      "cell_type": "markdown",
      "metadata": {
        "id": "jXe0NSac3TcJ"
      },
      "source": [
        "There's a lot of Skewness in the data of Applicant's Income and Coapplicant's Income.<br>\n",
        "<br>\n",
        "So, we apply log transformation to remove skewness\n"
      ]
    },
    {
      "cell_type": "code",
      "metadata": {
        "colab": {
          "base_uri": "https://localhost:8080/",
          "height": 244
        },
        "id": "i5xA51yAEdxJ",
        "outputId": "ee2ff58c-2365-482a-a272-f9c895447f22"
      },
      "source": [
        "import warnings\n",
        "warnings.filterwarnings('ignore')\n",
        "plt.rcParams['figure.figsize']=(18,4)\n",
        "\n",
        "data[\"ApplicantIncome\"] = np.log(data['ApplicantIncome'])\n",
        "data['CoapplicantIncome'] = np.log1p(data['CoapplicantIncome'])\n",
        "\n",
        "plt.subplot(1,2,1)\n",
        "sns.distplot(data['ApplicantIncome'], color='blue')\n",
        "\n",
        "plt.subplot(1,2,2)\n",
        "sns.distplot(data['CoapplicantIncome'], color='blue')\n",
        "\n",
        "plt.suptitle('Log Transformations')\n",
        "plt.show()"
      ],
      "execution_count": 17,
      "outputs": [
        {
          "output_type": "display_data",
          "data": {
            "image/png": "[encoded data removed]",
            "text/plain": [
              "<Figure size 1296x288 with 2 Axes>"
            ]
          },
          "metadata": {
            "tags": []
          }
        }
      ]
    },
    {
      "cell_type": "markdown",
      "metadata": {
        "id": "KIuoQ6UM-qjD"
      },
      "source": [
        "Univariant Analysis"
      ]
    },
    {
      "cell_type": "code",
      "metadata": {
        "colab": {
          "base_uri": "https://localhost:8080/",
          "height": 393
        },
        "id": "BIzkEtNzFYvn",
        "outputId": "bf500e8e-a574-48b2-b37c-c305089c78d8"
      },
      "source": [
        "plt.rcParams['figure.figsize']=(18,8)\n",
        "\n",
        "plt.subplot(2,4,1)\n",
        "sns.countplot(data['Gender'], palette='cool')\n",
        "\n",
        "plt.subplot(2,4,2)\n",
        "sns.countplot(data['Married'], palette='cool')\n",
        "\n",
        "plt.subplot(2,4,3)\n",
        "sns.countplot(data['Dependents'], palette='cool')\n",
        "\n",
        "plt.subplot(2,4,4)\n",
        "sns.countplot(data['Self_Employed'], palette='cool')\n",
        "\n",
        "plt.subplot(2,4,5)\n",
        "sns.countplot(data['Credit_History'], palette='cool')\n",
        "\n",
        "plt.subplot(2,4,6)\n",
        "sns.countplot(data['Property_Area'], palette='cool')\n",
        "\n",
        "plt.subplot(2,4,7)\n",
        "sns.countplot(data['Education'], palette='cool')\n",
        "\n",
        "plt.subplot(2,4,8)\n",
        "sns.countplot(data['Loan_Status'], palette='cool')\n",
        "\n",
        "plt.show()\n"
      ],
      "execution_count": 19,
      "outputs": [
        {
          "output_type": "display_data",
          "data": {
            "image/png": "[encoded data removed]",
            "text/plain": [
              "<Figure size 1296x576 with 8 Axes>"
            ]
          },
          "metadata": {
            "tags": []
          }
        }
      ]
    },
    {
      "cell_type": "markdown",
      "metadata": {
        "id": "lH4y99OJYrZ4"
      },
      "source": [
        "Bivariant Analysis\n"
      ]
    },
    {
      "cell_type": "code",
      "metadata": {
        "colab": {
          "base_uri": "https://localhost:8080/",
          "height": 288
        },
        "id": "W5h-w9zfYFqQ",
        "outputId": "e5c2a60b-02b3-4c3b-f43a-9f7b81446b40"
      },
      "source": [
        "plt.rcParams['figure.figsize'] = (15,4)\n",
        "\n",
        "plt.subplot(1,2,1)\n",
        "sns.boxplot(data['Loan_Status'] , data['ApplicantIncome'], palette='magma')\n",
        "\n",
        "plt.subplot(1,2,2)\n",
        "sns.boxplot(data['Loan_Status'], data['CoapplicantIncome'], palette='magma')\n",
        "\n",
        "plt.suptitle('Impact of income on Loan Status\\n', fontsize=20)\n",
        "plt.show()\n"
      ],
      "execution_count": 20,
      "outputs": [
        {
          "output_type": "display_data",
          "data": {
            "image/png": "[encoded data removed]",
            "text/plain": [
              "<Figure size 1080x288 with 2 Axes>"
            ]
          },
          "metadata": {
            "tags": []
          }
        }
      ]
    },
    {
      "cell_type": "markdown",
      "metadata": {
        "id": "Ol4iu5Wi-6Rv"
      },
      "source": [
        "Impact Of Amount on Loan Status"
      ]
    },
    {
      "cell_type": "code",
      "metadata": {
        "colab": {
          "base_uri": "https://localhost:8080/",
          "height": 285
        },
        "id": "CWHQW_syYn6L",
        "outputId": "f5b7f4d6-2077-4026-c744-bd74cb7b4676"
      },
      "source": [
        "plt.rcParams['figure.figsize']=(15,4)\n",
        "\n",
        "plt.subplot(1,2,1)\n",
        "sns.boxenplot(data['Loan_Status'], data['LoanAmount'], palette='Wistia')\n",
        "\n",
        "plt.subplot(1,2,2)\n",
        "sns.boxenplot(data['Loan_Status'], data['Loan_Amount_Term'], palette='Wistia')\n",
        "\n",
        "plt.suptitle('Impact of Income on Loan Status\\n', fontsize=20)\n",
        "plt.show()"
      ],
      "execution_count": 22,
      "outputs": [
        {
          "output_type": "display_data",
          "data": {
            "image/png": "[encoded data removed]",
            "text/plain": [
              "<Figure size 1080x288 with 2 Axes>"
            ]
          },
          "metadata": {
            "tags": []
          }
        }
      ]
    },
    {
      "cell_type": "code",
      "metadata": {
        "colab": {
          "base_uri": "https://localhost:8080/"
        },
        "id": "q6O_64QbZ90E",
        "outputId": "4ee1bd72-b38a-4a88-f54c-4c1e5e8523b6"
      },
      "source": [
        " print('Impactof marriage on loan status')\n",
        " print(pd.crosstab(data['Loan_Status'],data['Married']))\n",
        " \n",
        " print('\\nImpact of dependents on loan status')\n",
        " print(pd.crosstab(data['Loan_Status'], data['Dependents']))\n",
        "\n",
        " print('\\nImpact of education on loan status')\n",
        " print(pd.crosstab(data['Loan_Status'], data['Education']))\n",
        "\n",
        " print('\\nImpact of Employment on loan status')\n",
        " print(pd.crosstab(data['Loan_Status'], data['Self_Employed']))\n",
        " \n",
        " print('\\nImpact of Property on loan status')\n",
        " print(pd.crosstab(data['Loan_Status'], data['Property_Area']))"
      ],
      "execution_count": 23,
      "outputs": [
        {
          "output_type": "stream",
          "text": [
            "Impactof marriage on loan status\n",
            "Married       No  Yes\n",
            "Loan_Status          \n",
            "N             78  108\n",
            "Y            131  278\n",
            "\n",
            "Impact of dependents on loan status\n",
            "Dependents     0   1   2  3+\n",
            "Loan_Status                 \n",
            "N            111  34  25  16\n",
            "Y            241  63  74  31\n",
            "\n",
            "Impact of education on loan status\n",
            "Education    Graduate  Not Graduate\n",
            "Loan_Status                        \n",
            "N                 134            52\n",
            "Y                 327            82\n",
            "\n",
            "Impact of Employment on loan status\n",
            "Self_Employed   No  Yes\n",
            "Loan_Status            \n",
            "N              160   26\n",
            "Y              358   51\n",
            "\n",
            "Impact of Property on loan status\n",
            "Property_Area  Rural  Semiurban  Urban\n",
            "Loan_Status                           \n",
            "N                 66         52     68\n",
            "Y                108        172    129\n"
          ],
          "name": "stdout"
        }
      ]
    },
    {
      "cell_type": "markdown",
      "metadata": {
        "id": "IHrT753abZ0w"
      },
      "source": [
        "**Preparing data for model**"
      ]
    },
    {
      "cell_type": "markdown",
      "metadata": {
        "id": "JMTxgd3q_jtx"
      },
      "source": [
        "Columns which are of object data types"
      ]
    },
    {
      "cell_type": "code",
      "metadata": {
        "colab": {
          "base_uri": "https://localhost:8080/",
          "height": 202
        },
        "id": "2ZbXGwt4be48",
        "outputId": "f11fafaf-39d0-4593-db8c-23765ce38a42"
      },
      "source": [
        "data.select_dtypes('object').head()"
      ],
      "execution_count": 24,
      "outputs": [
        {
          "output_type": "execute_result",
          "data": {
            "text/html": [
              "<div>\n",
              "<style scoped>\n",
              "    .dataframe tbody tr th:only-of-type {\n",
              "        vertical-align: middle;\n",
              "    }\n",
              "\n",
              "    .dataframe tbody tr th {\n",
              "        vertical-align: top;\n",
              "    }\n",
              "\n",
              "    .dataframe thead th {\n",
              "        text-align: right;\n",
              "    }\n",
              "</style>\n",
              "<table border=\"1\" class=\"dataframe\">\n",
              "  <thead>\n",
              "    <tr style=\"text-align: right;\">\n",
              "      <th></th>\n",
              "      <th>Loan_ID</th>\n",
              "      <th>Gender</th>\n",
              "      <th>Married</th>\n",
              "      <th>Dependents</th>\n",
              "      <th>Education</th>\n",
              "      <th>Self_Employed</th>\n",
              "      <th>Property_Area</th>\n",
              "      <th>Loan_Status</th>\n",
              "    </tr>\n",
              "  </thead>\n",
              "  <tbody>\n",
              "    <tr>\n",
              "      <th>0</th>\n",
              "      <td>LP001002</td>\n",
              "      <td>Male</td>\n",
              "      <td>No</td>\n",
              "      <td>0</td>\n",
              "      <td>Graduate</td>\n",
              "      <td>No</td>\n",
              "      <td>Urban</td>\n",
              "      <td>Y</td>\n",
              "    </tr>\n",
              "    <tr>\n",
              "      <th>1</th>\n",
              "      <td>LP001003</td>\n",
              "      <td>Male</td>\n",
              "      <td>Yes</td>\n",
              "      <td>1</td>\n",
              "      <td>Graduate</td>\n",
              "      <td>No</td>\n",
              "      <td>Rural</td>\n",
              "      <td>N</td>\n",
              "    </tr>\n",
              "    <tr>\n",
              "      <th>2</th>\n",
              "      <td>LP001005</td>\n",
              "      <td>Male</td>\n",
              "      <td>Yes</td>\n",
              "      <td>0</td>\n",
              "      <td>Graduate</td>\n",
              "      <td>Yes</td>\n",
              "      <td>Urban</td>\n",
              "      <td>Y</td>\n",
              "    </tr>\n",
              "    <tr>\n",
              "      <th>3</th>\n",
              "      <td>LP001006</td>\n",
              "      <td>Male</td>\n",
              "      <td>Yes</td>\n",
              "      <td>0</td>\n",
              "      <td>Not Graduate</td>\n",
              "      <td>No</td>\n",
              "      <td>Urban</td>\n",
              "      <td>Y</td>\n",
              "    </tr>\n",
              "    <tr>\n",
              "      <th>4</th>\n",
              "      <td>LP001008</td>\n",
              "      <td>Male</td>\n",
              "      <td>No</td>\n",
              "      <td>0</td>\n",
              "      <td>Graduate</td>\n",
              "      <td>No</td>\n",
              "      <td>Urban</td>\n",
              "      <td>Y</td>\n",
              "    </tr>\n",
              "  </tbody>\n",
              "</table>\n",
              "</div>"
            ],
            "text/plain": [
              "    Loan_ID Gender Married  ... Self_Employed Property_Area Loan_Status\n",
              "0  LP001002   Male      No  ...            No         Urban           Y\n",
              "1  LP001003   Male     Yes  ...            No         Rural           N\n",
              "2  LP001005   Male     Yes  ...           Yes         Urban           Y\n",
              "3  LP001006   Male     Yes  ...            No         Urban           Y\n",
              "4  LP001008   Male      No  ...            No         Urban           Y\n",
              "\n",
              "[5 rows x 8 columns]"
            ]
          },
          "metadata": {
            "tags": []
          },
          "execution_count": 24
        }
      ]
    },
    {
      "cell_type": "code",
      "metadata": {
        "colab": {
          "base_uri": "https://localhost:8080/"
        },
        "id": "wjLQ673jb4vP",
        "outputId": "92da6cd4-a9fe-4161-fc26-7ed244be0dd0"
      },
      "source": [
        "print(\"Before Deleting Columns \",data.shape)\n",
        "data=data.drop(['Loan_ID'], axis=1)\n",
        "print(\"After Deleting Columns \",data.shape)"
      ],
      "execution_count": 25,
      "outputs": [
        {
          "output_type": "stream",
          "text": [
            "Before Deleting Columns  (595, 13)\n",
            "After Deleting Columns  (595, 12)\n"
          ],
          "name": "stdout"
        }
      ]
    },
    {
      "cell_type": "code",
      "metadata": {
        "colab": {
          "base_uri": "https://localhost:8080/"
        },
        "id": "Q_ms6ZDocBbB",
        "outputId": "59c47237-5308-4d15-8056-159b0ea83a29"
      },
      "source": [
        "data['Gender'] = data['Gender'].replace(('Male','Female'),(1,0))\n",
        "data['Married'] = data['Married'].replace(('Yes','No'),(1,0))\n",
        "data['Education'] = data['Education'].replace(('Graduate','Not Graduate'),(1,0))\n",
        "data['Self_Employed'] = data['Self_Employed'].replace(('Yes','No'), (1,0))\n",
        "data['Loan_Status'] = data['Loan_Status'].replace(('Y','N'),(1,0))\n",
        "\n",
        "data['Property_Area'] = data['Property_Area'].replace(('Urban','Semiurban','Rural'),(1,1,0))\n",
        "data['Dependents'] = data['Dependents'].replace(('0','1','2','3+'),(0,1,1,1))\n",
        "data.select_dtypes('object').columns"
      ],
      "execution_count": 26,
      "outputs": [
        {
          "output_type": "execute_result",
          "data": {
            "text/plain": [
              "Index([], dtype='object')"
            ]
          },
          "metadata": {
            "tags": []
          },
          "execution_count": 26
        }
      ]
    },
    {
      "cell_type": "code",
      "metadata": {
        "colab": {
          "base_uri": "https://localhost:8080/"
        },
        "id": "x48v5vU4dpIM",
        "outputId": "b2d0224f-bc0f-4691-c90c-b473c778729f"
      },
      "source": [
        "y = data['Loan_Status']\n",
        "x = data.drop(['Loan_Status'], axis=1)\n",
        "\n",
        "print(x.shape)\n",
        "print(y.shape)"
      ],
      "execution_count": 28,
      "outputs": [
        {
          "output_type": "stream",
          "text": [
            "(595, 11)\n",
            "(595,)\n"
          ],
          "name": "stdout"
        }
      ]
    },
    {
      "cell_type": "markdown",
      "metadata": {
        "id": "R32QJOj8AInx"
      },
      "source": [
        "**Resampling for Balancing Data**"
      ]
    },
    {
      "cell_type": "markdown",
      "metadata": {
        "id": "nHzAeBL9A-1X"
      },
      "source": [
        "Targeted class is highly imbalance.<br>\n",
        "Using Over Sampling Technique to research the data.<br>\n",
        "Using SMOTE Algorithm"
      ]
    },
    {
      "cell_type": "code",
      "metadata": {
        "colab": {
          "base_uri": "https://localhost:8080/"
        },
        "id": "fVegd7V3ehop",
        "outputId": "4c84714c-35b2-4d45-c118-a15206a8d834"
      },
      "source": [
        "x_resampling, y_resampling = SMOTE().fit_sample(x,y.values.ravel())\n",
        "print(x_resampling.shape)\n",
        "print(y_resampling.shape)"
      ],
      "execution_count": 29,
      "outputs": [
        {
          "output_type": "stream",
          "text": [
            "(818, 11)\n",
            "(818,)\n"
          ],
          "name": "stdout"
        }
      ]
    },
    {
      "cell_type": "code",
      "metadata": {
        "colab": {
          "base_uri": "https://localhost:8080/"
        },
        "id": "VvPuAGeJfHEK",
        "outputId": "76b9b7ce-a6ac-45a3-a442-9a362c1581fc"
      },
      "source": [
        "print('Before resampling')\n",
        "print(y.value_counts())\n",
        "\n",
        "print('After resampling')\n",
        "y_resampling = pd.DataFrame(y_resampling)\n",
        "print(y_resampling[0].value_counts())"
      ],
      "execution_count": 31,
      "outputs": [
        {
          "output_type": "stream",
          "text": [
            "Before resampling\n",
            "1    409\n",
            "0    186\n",
            "Name: Loan_Status, dtype: int64\n",
            "After resampling\n",
            "1    409\n",
            "0    409\n",
            "Name: 0, dtype: int64\n"
          ],
          "name": "stdout"
        }
      ]
    },
    {
      "cell_type": "code",
      "metadata": {
        "colab": {
          "base_uri": "https://localhost:8080/"
        },
        "id": "4XlhCTOqfjM0",
        "outputId": "ccd385c1-a543-4881-d8b4-c93a1df2aa08"
      },
      "source": [
        "\n",
        "x_train, x_test, y_train, y_test = train_test_split(x_resampling, y_resampling, test_size = 0.2, random_state = 0)\n",
        "print(\"Shape x train\", x_train.shape)\n",
        "print(\"Shape y train\",y_train.shape)\n",
        "print(\"Shape x test\", x_test.shape)\n",
        "print(\"Shape y test\", y_test.shape)"
      ],
      "execution_count": 32,
      "outputs": [
        {
          "output_type": "stream",
          "text": [
            "Shape x train (654, 11)\n",
            "Shape y train (654, 1)\n",
            "Shape x test (164, 11)\n",
            "Shape y test (164, 1)\n"
          ],
          "name": "stdout"
        }
      ]
    },
    {
      "cell_type": "markdown",
      "metadata": {
        "id": "GN74kzKKiotq"
      },
      "source": [
        "**Machine Learning Model**"
      ]
    },
    {
      "cell_type": "markdown",
      "metadata": {
        "id": "-1Cjx8GIC_he"
      },
      "source": [
        "Applying Logistic Regression"
      ]
    },
    {
      "cell_type": "code",
      "metadata": {
        "colab": {
          "base_uri": "https://localhost:8080/"
        },
        "id": "6sFjnHCii3-m",
        "outputId": "7296a451-dd58-458e-d405-050e7226a5ef"
      },
      "source": [
        "model = LogisticRegression(random_state = 0)\n",
        "model.fit(x_train, y_train)"
      ],
      "execution_count": 39,
      "outputs": [
        {
          "output_type": "execute_result",
          "data": {
            "text/plain": [
              "LogisticRegression(C=1.0, class_weight=None, dual=False, fit_intercept=True,\n",
              "                   intercept_scaling=1, l1_ratio=None, max_iter=100,\n",
              "                   multi_class='auto', n_jobs=None, penalty='l2',\n",
              "                   random_state=0, solver='lbfgs', tol=0.0001, verbose=0,\n",
              "                   warm_start=False)"
            ]
          },
          "metadata": {
            "tags": []
          },
          "execution_count": 39
        }
      ]
    },
    {
      "cell_type": "code",
      "metadata": {
        "colab": {
          "base_uri": "https://localhost:8080/"
        },
        "id": "8sCS4xzzjjhM",
        "outputId": "6798bdc8-4e44-4fb2-c94f-ae412d8e06be"
      },
      "source": [
        "y_prediction = model.predict(x_test)\n",
        "print(\"Training Accuracy\", model.score(x_train,y_train))\n",
        "print(\"Testing Accuracy\",model.score(x_test,y_test))"
      ],
      "execution_count": 40,
      "outputs": [
        {
          "output_type": "stream",
          "text": [
            "Training Accuracy 0.7629969418960245\n",
            "Testing Accuracy 0.725609756097561\n"
          ],
          "name": "stdout"
        }
      ]
    },
    {
      "cell_type": "markdown",
      "metadata": {
        "id": "pSKpTydJEXLo"
      },
      "source": [
        "Analyze the performance using the Confusion Matrix"
      ]
    },
    {
      "cell_type": "code",
      "metadata": {
        "colab": {
          "base_uri": "https://localhost:8080/",
          "height": 379
        },
        "id": "Ae7bUzwqj6gJ",
        "outputId": "7f8fdaca-7ca0-4b48-d685-68e3e630dd00"
      },
      "source": [
        "from sklearn.metrics import confusion_matrix, classification_report\n",
        "\n",
        "cm = confusion_matrix(y_test, y_prediction)\n",
        "plt.rcParams['figure.figsize'] = (3,3)\n",
        "sns.heatmap(cm, annot = True, cmap='Wistia', fmt='.8g')\n",
        "plt.show()\n",
        "\n",
        "cr=classification_report(y_test, y_prediction)\n",
        "print(cr)\n"
      ],
      "execution_count": 41,
      "outputs": [
        {
          "output_type": "display_data",
          "data": {
            "image/png": "[encoded data removed]",
            "text/plain": [
              "<Figure size 216x216 with 2 Axes>"
            ]
          },
          "metadata": {
            "tags": []
          }
        },
        {
          "output_type": "stream",
          "text": [
            "              precision    recall  f1-score   support\n",
            "\n",
            "           0       0.86      0.60      0.71        90\n",
            "           1       0.64      0.88      0.74        74\n",
            "\n",
            "    accuracy                           0.73       164\n",
            "   macro avg       0.75      0.74      0.72       164\n",
            "weighted avg       0.76      0.73      0.72       164\n",
            "\n"
          ],
          "name": "stdout"
        }
      ]
    },
    {
      "cell_type": "markdown",
      "metadata": {
        "id": "ORRTUqykEjWj"
      },
      "source": [
        "Logistic Regression provides less efficiency so we try Gradient Boosting using Decision Trees"
      ]
    },
    {
      "cell_type": "code",
      "metadata": {
        "colab": {
          "base_uri": "https://localhost:8080/"
        },
        "id": "bbsim09CkmOW",
        "outputId": "86d5d561-1811-493d-b9fb-9fe7b579084f"
      },
      "source": [
        "from sklearn.ensemble import GradientBoostingClassifier as gbc\n",
        "model = gbc()\n",
        "model.fit(x_train,y_train)\n",
        "y_prediction = model.predict(x_test)\n",
        "\n",
        "print(\"Training Accuracy\", model.score(x_train,y_train))\n",
        "print(\"Testing Accuracy\", model.score(x_test,y_test))"
      ],
      "execution_count": 42,
      "outputs": [
        {
          "output_type": "stream",
          "text": [
            "Training Accuracy 0.9204892966360856\n",
            "Testing Accuracy 0.7926829268292683\n"
          ],
          "name": "stdout"
        }
      ]
    },
    {
      "cell_type": "code",
      "metadata": {
        "colab": {
          "base_uri": "https://localhost:8080/",
          "height": 379
        },
        "id": "lTNUPuLVlTue",
        "outputId": "a292977b-0d35-48d5-d3ad-893383165fe9"
      },
      "source": [
        "cm = confusion_matrix(y_test, y_prediction)\n",
        "plt.rcParams['figure.figsize'] = (3,3)\n",
        "sns.heatmap(cm, annot = True, cmap='Wistia', fmt='.8g')\n",
        "plt.show()\n",
        "\n",
        "cr=classification_report(y_test, y_prediction)\n",
        "print(cr)"
      ],
      "execution_count": 43,
      "outputs": [
        {
          "output_type": "display_data",
          "data": {
            "image/png": "[encoded data removed]",
            "text/plain": [
              "<Figure size 216x216 with 2 Axes>"
            ]
          },
          "metadata": {
            "tags": []
          }
        },
        {
          "output_type": "stream",
          "text": [
            "              precision    recall  f1-score   support\n",
            "\n",
            "           0       0.89      0.71      0.79        90\n",
            "           1       0.72      0.89      0.80        74\n",
            "\n",
            "    accuracy                           0.79       164\n",
            "   macro avg       0.80      0.80      0.79       164\n",
            "weighted avg       0.81      0.79      0.79       164\n",
            "\n"
          ],
          "name": "stdout"
        }
      ]
    },
    {
      "cell_type": "code",
      "metadata": {
        "colab": {
          "base_uri": "https://localhost:8080/"
        },
        "id": "LmH8khiml2tI",
        "outputId": "f3a71a17-abc9-4279-d54c-951f41c47e8e"
      },
      "source": [
        "from sklearn.model_selection import cross_val_score\n",
        "clf = gbc(random_state=0)\n",
        "scores = cross_val_score(clf, x_train, y_train, cv=10)\n",
        "print(scores)"
      ],
      "execution_count": 44,
      "outputs": [
        {
          "output_type": "stream",
          "text": [
            "[0.8030303  0.83333333 0.84848485 0.83333333 0.86153846 0.87692308\n",
            " 0.87692308 0.86153846 0.73846154 0.86153846]\n"
          ],
          "name": "stdout"
        }
      ]
    }
  ]
}